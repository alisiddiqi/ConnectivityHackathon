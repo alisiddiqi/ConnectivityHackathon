{
 "metadata": {
  "language_info": {
   "codemirror_mode": {
    "name": "ipython",
    "version": 3
   },
   "file_extension": ".py",
   "mimetype": "text/x-python",
   "name": "python",
   "nbconvert_exporter": "python",
   "pygments_lexer": "ipython3",
   "version": "3.8.8"
  },
  "orig_nbformat": 2,
  "kernelspec": {
   "name": "python388jvsc74a57bd015b43904b162954db0fc3d75d8f8c9b0ed041d4c8dd51c2b3690b96bf2593f54",
   "display_name": "Python 3.8.8 64-bit ('MLProjects': conda)"
  }
 },
 "nbformat": 4,
 "nbformat_minor": 2,
 "cells": [
  {
   "cell_type": "code",
   "execution_count": 1,
   "metadata": {},
   "outputs": [],
   "source": [
    "#Rank areas by internet connection\n",
    "\n",
    "\n",
    "import pandas as pd\n",
    "import matplotlib.pyplot as plt\n",
    "import json\n",
    "\n",
    "cols = [\n",
    "    'TEST ID',\n",
    "    'HEATMAP_MUNICIPALITY',\n",
    "    'DOWNLOAD SPEED',\n",
    "    'UPLOAD SPEED',\n",
    "    'SERVICE TYPE',\n",
    "    'TEST SERVER'\n",
    "]\n",
    "\n",
    "df = pd.read_csv ('RMADataForHackathon21-04-23.csv', usecols=cols)\n",
    "df = df.drop_duplicates()\n",
    "\n",
    "\n",
    "# How to find the best overall \n",
    "\n",
    "# Find What type of internet usage is possible in which counties\n",
    "# Ranks Yes or No\n",
    "\n",
    "# Factors:\n",
    "    # Mulitple people can use internet at the same time\n",
    "    # Gaming \n",
    "    # Zoom Video calls\n",
    "    # Watch Netflix HD(1080p)\n",
    "    # Internet surfing\n",
    "\n",
    " #   https://www.reviews.org/internet-service/how-many-mbps-do-i-need/\n",
    "\n",
    "\n",
    "\n"
   ]
  },
  {
   "cell_type": "code",
   "execution_count": 18,
   "metadata": {
    "tags": []
   },
   "outputs": [
    {
     "output_type": "stream",
     "name": "stdout",
     "text": [
      "       TEST ID  DOWNLOAD SPEED  UPLOAD SPEED TEST SERVER SERVICE TYPE  \\\n16577  1163419            0.26          0.29     Moncton          NaN   \n386      72800            0.30          0.81     Calgary          NaN   \n1784    452648            0.33          0.78     Calgary          NaN   \n202      41663            0.41          0.81     Calgary          NaN   \n300      59378            0.55          0.84     Toronto          NaN   \n88       17793            0.59          0.70     Calgary          NaN   \n341      65354            0.60          0.81     Calgary          NaN   \n1783    452647            0.68          0.68     Calgary          NaN   \n1578    420500            0.99          0.13     Calgary          NaN   \n2815    601593            1.07          1.25     Calgary     Business   \n1658    441151            1.13          0.25     Calgary          NaN   \n14613  1074131            1.63          1.88     Calgary          NaN   \n840     345309            1.72          0.81     Calgary          NaN   \n2092    508714            1.95          1.43     Calgary          NaN   \n26        4327            2.72          0.77     Calgary          NaN   \n14612  1074130            2.77          2.24     Calgary          NaN   \n18897  1195990            2.77          1.76     Calgary         Home   \n18896  1195988            2.83          1.63     Calgary         Home   \n2093    508722            4.12          1.54     Calgary          NaN   \n1554    416894            4.72          1.18     Calgary          NaN   \n\n      HEATMAP_MUNICIPALITY  \n16577     Athabasca County  \n386       Athabasca County  \n1784      Athabasca County  \n202       Athabasca County  \n300       Athabasca County  \n88        Athabasca County  \n341       Athabasca County  \n1783      Athabasca County  \n1578      Athabasca County  \n2815      Athabasca County  \n1658      Athabasca County  \n14613     Athabasca County  \n840       Athabasca County  \n2092      Athabasca County  \n26        Athabasca County  \n14612     Athabasca County  \n18897     Athabasca County  \n18896     Athabasca County  \n2093      Athabasca County  \n1554      Athabasca County  \n"
     ]
    }
   ],
   "source": [
    "\n",
    "ds = df.sort_values(by=['HEATMAP_MUNICIPALITY', 'DOWNLOAD SPEED'], ascending=True, kind='mergesort') # Arrange data by municipalities \n",
    "ds = ds[ds[\"DOWNLOAD SPEED\"] > 0 ]\n",
    "print(ds.head(20))\n"
   ]
  },
  {
   "cell_type": "code",
   "execution_count": 19,
   "metadata": {
    "tags": []
   },
   "outputs": [
    {
     "output_type": "stream",
     "name": "stdout",
     "text": [
      "                     HEATMAP_MUNICIPALITY  AVG DOWNLOAD SPEED\n61                      Strathcona County           93.359174\n33              M.D. of Bonnyville No. 87           85.414681\n6                         Cardston County           63.352069\n16              County of St. Paul No. 19           56.488049\n66                       Wheatland County           54.427031\n19              County of Vermilion River           43.093333\n49         Municipality of Crowsnest Pass           40.440789\n28                          Lamont County           36.368710\n46            M.D. of Willow Creek No. 26           35.649459\n64                          Vulcan County           35.039231\n27                         Lacombe County           34.777945\n22                         Cypress County           34.373707\n56                      Rocky View County           30.489957\n0                        Athabasca County           30.282326\n54                        Red Deer County           29.094365\n67                       Woodlands County           28.835000\n55  Regional Municipality of Wood Buffalo           26.639673\n12         County of Grande Prairie No. 1           26.503769\n10              County of Barrhead No. 11           24.701800\n30                      Lethbridge County           22.952167\n11             County of Forty Mile No. 8           22.535556\n36               M.D. of Greenview No. 16           22.306733\n1                           Beaver County           22.289574\n35               M.D. of Foothills No. 31           22.138583\n62                        Sturgeon County           21.412986\n41               M.D. of Ranchland No. 66           19.860000\n15            County of Paintearth No. 18           18.324706\n29                           Leduc County           16.949067\n47                       Mackenzie County           16.080556\n53                          Ponoka County           15.097500\n8                       Clearwater County           14.889844\n45              M.D. of Wainwright No. 61           14.674167\n24                        Kneehill County           14.633500\n48                   Mountain View County           14.194838\n25                    Lac La Biche County           13.614634\n4                          Brazeau County           12.602453\n20                 County of Warner No. 5           12.492386\n40                 M.D. of Provost No. 52           11.818435\n63                        Thorhild County           11.760723\n13               County of Minburn No. 27           11.435000\n18             County of Two Hills No. 21           11.084516\n58                      Smoky Lake County           10.998500\n52                        Parkland County           10.973671\n34               M.D. of Fairview No. 136            9.999615\n42            M.D. of Smoky River No. 130            9.858390\n44                          M.D. of Taber            9.769286\n9              County of  Northern Lights            9.720000\n14                       County of Newell            9.562222\n50                 Municipality of Jasper            9.224444\n31                  M.D. of Acadia No. 34            9.139891\n5                          Camrose County            9.001081\n60                        Starland County            8.771193\n59                  Special Areas 2, 3, 4            8.309217\n17               County of Stettler No. 6            7.835099\n32                  M.D. of Bighorn No. 8            7.825000\n51                Northern Sunrise County            7.810505\n38                  M.D. of Peace No. 135            7.743409\n68                      Yellowhead County            7.663494\n2                        Big Lakes County            7.590227\n65                        Westlock County            6.614568\n"
     ]
    }
   ],
   "source": [
    "\n",
    "ds_avgdwnld = ds.groupby('HEATMAP_MUNICIPALITY', as_index=False)[['DOWNLOAD SPEED']].mean()\n",
    "# print(ds_avgdwnld)\n",
    "ds_avgdwnld = ds_avgdwnld.rename(columns={\"DOWNLOAD SPEED\": \"AVG DOWNLOAD SPEED\"})\n",
    "ds_avgdwnld = ds_avgdwnld.sort_values(by=['AVG DOWNLOAD SPEED'], ascending=False, kind='mergesort')\n",
    "\n",
    "print(ds_avgdwnld[0:60])\n",
    "\n",
    "\n",
    "\n",
    "\n"
   ]
  },
  {
   "cell_type": "code",
   "execution_count": 44,
   "metadata": {},
   "outputs": [],
   "source": [
    "result = ds_avgdwnld.to_json(r'C:\\Users\\alisi\\Desktop\\Code\\ConnectivityHackathon\\data.json',orient=\"index\" )\n",
    "# parsed = json.loads(result)\n",
    "# json.dumps(parsed, indent=3)  "
   ]
  },
  {
   "cell_type": "code",
   "execution_count": 21,
   "metadata": {},
   "outputs": [],
   "source": [
    "# Find What type of internet usage is possible in which counties\n",
    "# Ranks Yes or No\n",
    "\n",
    "# Factors:\n",
    "    # Mulitple people can use internet at the same time\n",
    "    # Gaming \n",
    "    # Zoom Video calls\n",
    "    # Watch Netflix HD(1080p)\n",
    "    # Internet surfing #   https://www.reviews.org/internet-service/how-many-mbps-do-i-need/\n",
    "\n",
    "\n"
   ]
  },
  {
   "cell_type": "code",
   "execution_count": 4,
   "metadata": {},
   "outputs": [
    {
     "output_type": "error",
     "ename": "OSError",
     "evalue": "Could not find lib geos_c.dll or load any of its variants ['C:\\\\Users\\\\alisi\\\\miniconda3\\\\envs\\\\MLProjects\\\\Library\\\\lib\\\\geos_c.dll'].",
     "traceback": [
      "\u001b[1;31m---------------------------------------------------------------------------\u001b[0m",
      "\u001b[1;31mOSError\u001b[0m                                   Traceback (most recent call last)",
      "\u001b[1;32m<ipython-input-4-600753b79b7c>\u001b[0m in \u001b[0;36m<module>\u001b[1;34m\u001b[0m\n\u001b[0;32m      1\u001b[0m \u001b[1;32mimport\u001b[0m \u001b[0mmatplotlib\u001b[0m\u001b[1;33m.\u001b[0m\u001b[0mpyplot\u001b[0m \u001b[1;32mas\u001b[0m \u001b[0mplt\u001b[0m\u001b[1;33m\u001b[0m\u001b[1;33m\u001b[0m\u001b[0m\n\u001b[1;32m----> 2\u001b[1;33m \u001b[1;32mimport\u001b[0m \u001b[0mgeopandas\u001b[0m \u001b[1;32mas\u001b[0m \u001b[0mgpd\u001b[0m\u001b[1;33m\u001b[0m\u001b[1;33m\u001b[0m\u001b[0m\n\u001b[0m\u001b[0;32m      3\u001b[0m \u001b[1;32mfrom\u001b[0m \u001b[0mshapely\u001b[0m\u001b[1;33m.\u001b[0m\u001b[0mgeometry\u001b[0m \u001b[1;32mimport\u001b[0m \u001b[0mPoint\u001b[0m\u001b[1;33m,\u001b[0m \u001b[0mPolygon\u001b[0m\u001b[1;33m\u001b[0m\u001b[1;33m\u001b[0m\u001b[0m\n\u001b[0;32m      4\u001b[0m \u001b[1;32mimport\u001b[0m \u001b[0mfolium\u001b[0m\u001b[1;33m\u001b[0m\u001b[1;33m\u001b[0m\u001b[0m\n\u001b[0;32m      5\u001b[0m \u001b[1;32mfrom\u001b[0m \u001b[0mfolium\u001b[0m\u001b[1;33m.\u001b[0m\u001b[0mplugins\u001b[0m \u001b[1;32mimport\u001b[0m \u001b[0mHeatMap\u001b[0m\u001b[1;33m\u001b[0m\u001b[1;33m\u001b[0m\u001b[0m\n",
      "\u001b[1;32m~\\miniconda3\\envs\\MLProjects\\lib\\site-packages\\geopandas\\__init__.py\u001b[0m in \u001b[0;36m<module>\u001b[1;34m\u001b[0m\n\u001b[1;32m----> 1\u001b[1;33m \u001b[1;32mfrom\u001b[0m \u001b[0mgeopandas\u001b[0m\u001b[1;33m.\u001b[0m\u001b[0mgeoseries\u001b[0m \u001b[1;32mimport\u001b[0m \u001b[0mGeoSeries\u001b[0m  \u001b[1;31m# noqa\u001b[0m\u001b[1;33m\u001b[0m\u001b[1;33m\u001b[0m\u001b[0m\n\u001b[0m\u001b[0;32m      2\u001b[0m \u001b[1;32mfrom\u001b[0m \u001b[0mgeopandas\u001b[0m\u001b[1;33m.\u001b[0m\u001b[0mgeodataframe\u001b[0m \u001b[1;32mimport\u001b[0m \u001b[0mGeoDataFrame\u001b[0m  \u001b[1;31m# noqa\u001b[0m\u001b[1;33m\u001b[0m\u001b[1;33m\u001b[0m\u001b[0m\n\u001b[0;32m      3\u001b[0m \u001b[1;32mfrom\u001b[0m \u001b[0mgeopandas\u001b[0m\u001b[1;33m.\u001b[0m\u001b[0marray\u001b[0m \u001b[1;32mimport\u001b[0m \u001b[0m_points_from_xy\u001b[0m \u001b[1;32mas\u001b[0m \u001b[0mpoints_from_xy\u001b[0m  \u001b[1;31m# noqa\u001b[0m\u001b[1;33m\u001b[0m\u001b[1;33m\u001b[0m\u001b[0m\n\u001b[0;32m      4\u001b[0m \u001b[1;33m\u001b[0m\u001b[0m\n\u001b[0;32m      5\u001b[0m \u001b[1;32mfrom\u001b[0m \u001b[0mgeopandas\u001b[0m\u001b[1;33m.\u001b[0m\u001b[0mio\u001b[0m\u001b[1;33m.\u001b[0m\u001b[0mfile\u001b[0m \u001b[1;32mimport\u001b[0m \u001b[0mread_file\u001b[0m  \u001b[1;31m# noqa\u001b[0m\u001b[1;33m\u001b[0m\u001b[1;33m\u001b[0m\u001b[0m\n",
      "\u001b[1;32m~\\miniconda3\\envs\\MLProjects\\lib\\site-packages\\geopandas\\geoseries.py\u001b[0m in \u001b[0;36m<module>\u001b[1;34m\u001b[0m\n\u001b[0;32m     10\u001b[0m \u001b[1;33m\u001b[0m\u001b[0m\n\u001b[0;32m     11\u001b[0m \u001b[1;32mimport\u001b[0m \u001b[0mpyproj\u001b[0m\u001b[1;33m\u001b[0m\u001b[1;33m\u001b[0m\u001b[0m\n\u001b[1;32m---> 12\u001b[1;33m \u001b[1;32mfrom\u001b[0m \u001b[0mshapely\u001b[0m\u001b[1;33m.\u001b[0m\u001b[0mgeometry\u001b[0m\u001b[1;33m.\u001b[0m\u001b[0mbase\u001b[0m \u001b[1;32mimport\u001b[0m \u001b[0mBaseGeometry\u001b[0m\u001b[1;33m\u001b[0m\u001b[1;33m\u001b[0m\u001b[0m\n\u001b[0m\u001b[0;32m     13\u001b[0m \u001b[1;32mfrom\u001b[0m \u001b[0mshapely\u001b[0m\u001b[1;33m.\u001b[0m\u001b[0mops\u001b[0m \u001b[1;32mimport\u001b[0m \u001b[0mtransform\u001b[0m\u001b[1;33m\u001b[0m\u001b[1;33m\u001b[0m\u001b[0m\n\u001b[0;32m     14\u001b[0m \u001b[1;33m\u001b[0m\u001b[0m\n",
      "\u001b[1;32m~\\miniconda3\\envs\\MLProjects\\lib\\site-packages\\shapely\\geometry\\__init__.py\u001b[0m in \u001b[0;36m<module>\u001b[1;34m\u001b[0m\n\u001b[0;32m      2\u001b[0m \"\"\"\n\u001b[0;32m      3\u001b[0m \u001b[1;33m\u001b[0m\u001b[0m\n\u001b[1;32m----> 4\u001b[1;33m \u001b[1;32mfrom\u001b[0m \u001b[1;33m.\u001b[0m\u001b[0mbase\u001b[0m \u001b[1;32mimport\u001b[0m \u001b[0mCAP_STYLE\u001b[0m\u001b[1;33m,\u001b[0m \u001b[0mJOIN_STYLE\u001b[0m\u001b[1;33m\u001b[0m\u001b[1;33m\u001b[0m\u001b[0m\n\u001b[0m\u001b[0;32m      5\u001b[0m \u001b[1;32mfrom\u001b[0m \u001b[1;33m.\u001b[0m\u001b[0mgeo\u001b[0m \u001b[1;32mimport\u001b[0m \u001b[0mbox\u001b[0m\u001b[1;33m,\u001b[0m \u001b[0mshape\u001b[0m\u001b[1;33m,\u001b[0m \u001b[0masShape\u001b[0m\u001b[1;33m,\u001b[0m \u001b[0mmapping\u001b[0m\u001b[1;33m\u001b[0m\u001b[1;33m\u001b[0m\u001b[0m\n\u001b[0;32m      6\u001b[0m \u001b[1;32mfrom\u001b[0m \u001b[1;33m.\u001b[0m\u001b[0mpoint\u001b[0m \u001b[1;32mimport\u001b[0m \u001b[0mPoint\u001b[0m\u001b[1;33m,\u001b[0m \u001b[0masPoint\u001b[0m\u001b[1;33m\u001b[0m\u001b[1;33m\u001b[0m\u001b[0m\n",
      "\u001b[1;32m~\\miniconda3\\envs\\MLProjects\\lib\\site-packages\\shapely\\geometry\\base.py\u001b[0m in \u001b[0;36m<module>\u001b[1;34m\u001b[0m\n\u001b[0;32m     15\u001b[0m \u001b[1;33m\u001b[0m\u001b[0m\n\u001b[0;32m     16\u001b[0m \u001b[1;32mfrom\u001b[0m \u001b[0mshapely\u001b[0m\u001b[1;33m.\u001b[0m\u001b[0maffinity\u001b[0m \u001b[1;32mimport\u001b[0m \u001b[0maffine_transform\u001b[0m\u001b[1;33m\u001b[0m\u001b[1;33m\u001b[0m\u001b[0m\n\u001b[1;32m---> 17\u001b[1;33m \u001b[1;32mfrom\u001b[0m \u001b[0mshapely\u001b[0m\u001b[1;33m.\u001b[0m\u001b[0mcoords\u001b[0m \u001b[1;32mimport\u001b[0m \u001b[0mCoordinateSequence\u001b[0m\u001b[1;33m\u001b[0m\u001b[1;33m\u001b[0m\u001b[0m\n\u001b[0m\u001b[0;32m     18\u001b[0m \u001b[1;32mfrom\u001b[0m \u001b[0mshapely\u001b[0m\u001b[1;33m.\u001b[0m\u001b[0merrors\u001b[0m \u001b[1;32mimport\u001b[0m \u001b[0mWKBReadingError\u001b[0m\u001b[1;33m,\u001b[0m \u001b[0mWKTReadingError\u001b[0m\u001b[1;33m\u001b[0m\u001b[1;33m\u001b[0m\u001b[0m\n\u001b[0;32m     19\u001b[0m \u001b[1;32mfrom\u001b[0m \u001b[0mshapely\u001b[0m\u001b[1;33m.\u001b[0m\u001b[0mftools\u001b[0m \u001b[1;32mimport\u001b[0m \u001b[0mwraps\u001b[0m\u001b[1;33m\u001b[0m\u001b[1;33m\u001b[0m\u001b[0m\n",
      "\u001b[1;32m~\\miniconda3\\envs\\MLProjects\\lib\\site-packages\\shapely\\coords.py\u001b[0m in \u001b[0;36m<module>\u001b[1;34m\u001b[0m\n\u001b[0;32m      6\u001b[0m \u001b[1;32mfrom\u001b[0m \u001b[0mctypes\u001b[0m \u001b[1;32mimport\u001b[0m \u001b[0mbyref\u001b[0m\u001b[1;33m,\u001b[0m \u001b[0mc_double\u001b[0m\u001b[1;33m,\u001b[0m \u001b[0mc_uint\u001b[0m\u001b[1;33m\u001b[0m\u001b[1;33m\u001b[0m\u001b[0m\n\u001b[0;32m      7\u001b[0m \u001b[1;33m\u001b[0m\u001b[0m\n\u001b[1;32m----> 8\u001b[1;33m \u001b[1;32mfrom\u001b[0m \u001b[0mshapely\u001b[0m\u001b[1;33m.\u001b[0m\u001b[0mgeos\u001b[0m \u001b[1;32mimport\u001b[0m \u001b[0mlgeos\u001b[0m\u001b[1;33m\u001b[0m\u001b[1;33m\u001b[0m\u001b[0m\n\u001b[0m\u001b[0;32m      9\u001b[0m \u001b[1;32mfrom\u001b[0m \u001b[0mshapely\u001b[0m\u001b[1;33m.\u001b[0m\u001b[0mtopology\u001b[0m \u001b[1;32mimport\u001b[0m \u001b[0mValidating\u001b[0m\u001b[1;33m\u001b[0m\u001b[1;33m\u001b[0m\u001b[0m\n\u001b[0;32m     10\u001b[0m \u001b[1;33m\u001b[0m\u001b[0m\n",
      "\u001b[1;32m~\\miniconda3\\envs\\MLProjects\\lib\\site-packages\\shapely\\geos.py\u001b[0m in \u001b[0;36m<module>\u001b[1;34m\u001b[0m\n\u001b[0;32m    127\u001b[0m         \u001b[0mos\u001b[0m\u001b[1;33m.\u001b[0m\u001b[0menviron\u001b[0m\u001b[1;33m[\u001b[0m\u001b[1;34m'PATH'\u001b[0m\u001b[1;33m]\u001b[0m \u001b[1;33m=\u001b[0m \u001b[1;34m\"%s;%s;%s\"\u001b[0m \u001b[1;33m%\u001b[0m\u001b[0;31m \u001b[0m\u001b[0;31m\\\u001b[0m\u001b[1;33m\u001b[0m\u001b[1;33m\u001b[0m\u001b[0m\n\u001b[0;32m    128\u001b[0m             \u001b[1;33m(\u001b[0m\u001b[0megg_dlls\u001b[0m\u001b[1;33m,\u001b[0m \u001b[0mwininst_dlls\u001b[0m\u001b[1;33m,\u001b[0m \u001b[0moriginal_path\u001b[0m\u001b[1;33m)\u001b[0m\u001b[1;33m\u001b[0m\u001b[1;33m\u001b[0m\u001b[0m\n\u001b[1;32m--> 129\u001b[1;33m         _lgeos = load_dll(\"geos_c.dll\", fallbacks=[\n\u001b[0m\u001b[0;32m    130\u001b[0m             \u001b[0mos\u001b[0m\u001b[1;33m.\u001b[0m\u001b[0mpath\u001b[0m\u001b[1;33m.\u001b[0m\u001b[0mjoin\u001b[0m\u001b[1;33m(\u001b[0m\u001b[0msys\u001b[0m\u001b[1;33m.\u001b[0m\u001b[0mprefix\u001b[0m\u001b[1;33m,\u001b[0m \u001b[1;34m\"Library\"\u001b[0m\u001b[1;33m,\u001b[0m \u001b[1;34m\"lib\"\u001b[0m\u001b[1;33m,\u001b[0m \u001b[1;34m\"geos_c.dll\"\u001b[0m\u001b[1;33m)\u001b[0m\u001b[1;33m,\u001b[0m\u001b[1;33m\u001b[0m\u001b[1;33m\u001b[0m\u001b[0m\n\u001b[0;32m    131\u001b[0m         ])\n",
      "\u001b[1;32m~\\miniconda3\\envs\\MLProjects\\lib\\site-packages\\shapely\\geos.py\u001b[0m in \u001b[0;36mload_dll\u001b[1;34m(libname, fallbacks, mode)\u001b[0m\n\u001b[0;32m     52\u001b[0m     \u001b[1;32melse\u001b[0m\u001b[1;33m:\u001b[0m\u001b[1;33m\u001b[0m\u001b[1;33m\u001b[0m\u001b[0m\n\u001b[0;32m     53\u001b[0m         \u001b[1;31m# No shared library was loaded. Raise OSError.\u001b[0m\u001b[1;33m\u001b[0m\u001b[1;33m\u001b[0m\u001b[1;33m\u001b[0m\u001b[0m\n\u001b[1;32m---> 54\u001b[1;33m         raise OSError(\n\u001b[0m\u001b[0;32m     55\u001b[0m             \"Could not find lib {0} or load any of its variants {1}.\".format(\n\u001b[0;32m     56\u001b[0m                 libname, fallbacks or []))\n",
      "\u001b[1;31mOSError\u001b[0m: Could not find lib geos_c.dll or load any of its variants ['C:\\\\Users\\\\alisi\\\\miniconda3\\\\envs\\\\MLProjects\\\\Library\\\\lib\\\\geos_c.dll']."
     ]
    }
   ],
   "source": [
    "import matplotlib.pyplot as plt\n",
    "import geopandas as gpd\n",
    "from shapely.geometry import Point, Polygon\n",
    "import folium\n",
    "from folium.plugins import HeatMap\n",
    "import shapefile\n",
    "\n",
    "\n",
    "cols = [\n",
    "    'ClientCity',\n",
    "    'TestThroughputMbpsDownload',\n",
    "    'ClientLat',\n",
    "    'ClientLong'\n",
    "]\n",
    "    \n",
    "df = pd.read_csv ('./data/2021-04-01_Mlab_data_start.csv', usecols=cols, nrows=5)\n",
    "df[\"TestThroughputMbpsDownload\"].describe()\n",
    "\n",
    "print(df)\n",
    "\n",
    "\n",
    "\n",
    "ds = df.sort_values(by=['ClientCity', 'TestThroughputMbpsDownload'], ascending=True, kind='mergesort')\n",
    "\n",
    "print(ds)         \n",
    "fp = \"../Municipal_Boundaries_SHP_Geographic//CITY.shp\"\n",
    "fp2 = \"../Municipal_Boundaries_SHP_Geographic//RURAL.shp\"\n",
    "fp3 = \"../Municipal_Boundaries_SHP_Geographic//OCTEXT.shp\"\n",
    "fp4 = \"../Municipal_Boundaries_SHP_Geographic//TOWN.shp\"\n",
    "fp6 = \"../Municipal_Boundaries_SHP_Geographic//VILLAGE.shp\"\n",
    "fp7 = \"../Municipal_Boundaries_SHP_Geographic//SVILLAGE.shp\"\n",
    "fp8 = \"../Municipal_Boundaries_SHP_Geographic//HAMLETPT.shp\"\n",
    "\n",
    "#reading the file stored in variable fp\n",
    "map_df = gpd.read_file(fp)\n",
    "map_df2 = gpd.read_file(fp2)\n",
    "map_df3 = gpd.read_file(fp3)\n",
    "map_df4 = gpd.read_file(fp4)\n",
    "\n",
    "# check data type so we can see that this is not a normal dataframe, but a GEOdataframe\n",
    "# map_df.plot()\n",
    "\n",
    "x = map_df.plot(color='red')\n",
    "y = map_df2.plot(ax=x,color='green', edgecolors='black')\n",
    "z = map_df3.plot(ax=y,color='pink')\n",
    " \n",
    "map_df4.plot(ax=z, color='none', edgecolors='b')\n",
    "# plt.show()\n",
    "\n",
    "\n",
    "\n",
    "\n",
    "\n",
    "\n",
    "# # read the shapefile\n",
    "# geojson_data = shapefile.Reader('myshpfile.geojson').__geo_interface__\n",
    "# print(geojson_data)\n",
    "\n",
    "# read the shapefile\n",
    "reader = shapefile.Reader(\"../Municipal_Boundaries_SHP_Geographic//HAMLETPT.shp\")\n",
    "fields = reader.fields[1:]\n",
    "field_names = [field[0] for field in fields]\n",
    "buffer = []\n",
    "\n",
    "\n",
    "for sr in reader.shapeRecords():\n",
    "    atr = dict(zip(field_names, sr.record))\n",
    "    geom = sr.shape.__geo_interface__\n",
    "    buffer.append(dict(type=\"Feature\", \\\n",
    "    geometry=geom, properties=atr)) \n",
    "   \n",
    "    # write the GeoJSON file\n",
    "   \n",
    "geojson = open(\"hamletpt.json\", \"w\")\n",
    "geojson.write(dumps({\"type\": \"FeatureCollection\", \"features\": buffer}, indent=2) + \"\\n\")\n",
    "geojson.close()"
   ]
  },
  {
   "cell_type": "code",
   "execution_count": 22,
   "metadata": {},
   "outputs": [],
   "source": [
    "#index download speeds be region"
   ]
  },
  {
   "source": [
    "# fp = \"Municipal_Boundaries_SHP_Geographic//CITY.shp\"\n",
    "\n",
    "# #reading the file stored in variable fp\n",
    "# map_df = gpd.read_file(fp)\n",
    "# map_df.plot()\n",
    "# plt.show()"
   ],
   "cell_type": "code",
   "metadata": {},
   "execution_count": 10,
   "outputs": []
  },
  {
   "cell_type": "code",
   "execution_count": null,
   "metadata": {},
   "outputs": [],
   "source": []
  }
 ]
}